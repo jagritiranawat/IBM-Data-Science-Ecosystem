{
 "cells": [
  {
   "cell_type": "markdown",
   "id": "4db3fffb-9f90-4ef4-b378-5d5891b5ae94",
   "metadata": {
    "tags": []
   },
   "source": [
    "<h1>Data Science Tools and Ecosystem</h1>\n",
    "\n"
   ]
  },
  {
   "cell_type": "markdown",
   "id": "e39d9a87-42ac-42e6-8861-31fde329a6dd",
   "metadata": {},
   "source": [
    "In this notebook, Data Science Tools and Ecosystem are summarized."
   ]
  },
  {
   "cell_type": "markdown",
   "id": "ba7c279c-a92f-4378-ac6e-875e774feaed",
   "metadata": {
    "tags": []
   },
   "source": [
    "**Objectives:**\n",
    "\n",
    "- List popular languages for Data Science.\n",
    "- Introduce common data science libraries.\n",
    "- Present key tools and environments in data science.\n"
   ]
  },
  {
   "cell_type": "markdown",
   "id": "53a4d4dc-db8b-4ce2-9b78-499132632515",
   "metadata": {},
   "source": [
    "Some of the popular languages that Data Scientists use are:\n",
    "1. Python\n",
    "2. R \n",
    "3. Java\n",
    "4. SQL"
   ]
  },
  {
   "cell_type": "markdown",
   "id": "a72a193b-c7ab-4a3c-8874-81cf29a21b2e",
   "metadata": {
    "tags": []
   },
   "source": [
    "Some of the commonly used libraries used by Data Scientists include:\n",
    "\n",
    "1. NumPy\n",
    "2. Pandas\n",
    "3. Matplotlib\n",
    "4. Keras"
   ]
  },
  {
   "cell_type": "markdown",
   "id": "80d300c4-69c8-4d23-94ed-131e0a088d31",
   "metadata": {},
   "source": [
    "Data Science Tools :\n",
    "\n",
    "| Data Science Tools     |\n",
    "|----------------------- |\n",
    "| 1. Jupyter Notebook    |\n",
    "| 2. RStudio             |\n",
    "| 3. Visual Studio Code  |\n",
    "\n"
   ]
  },
  {
   "cell_type": "markdown",
   "id": "fd753107-08e1-49af-87d8-f0a54b6ac88e",
   "metadata": {},
   "source": [
    "### Below are a few examples of evaluating arithmetic expressions in Python.\n"
   ]
  },
  {
   "cell_type": "code",
   "execution_count": 1,
   "id": "a924af70-2ff9-4950-b7ef-ddf258dc3454",
   "metadata": {
    "tags": []
   },
   "outputs": [
    {
     "data": {
      "text/plain": [
       "17"
      ]
     },
     "execution_count": 1,
     "metadata": {},
     "output_type": "execute_result"
    }
   ],
   "source": [
    "# This is a simple arithmetic expression to multiply and then add integers.\n",
    "result = (3 * 4) + 5\n",
    "result"
   ]
  },
  {
   "cell_type": "code",
   "execution_count": 2,
   "id": "05d4a3fb-37b4-4dc1-92ec-1b5de38f53f2",
   "metadata": {
    "tags": []
   },
   "outputs": [
    {
     "data": {
      "text/plain": [
       "3.3333333333333335"
      ]
     },
     "execution_count": 2,
     "metadata": {},
     "output_type": "execute_result"
    }
   ],
   "source": [
    "# This will convert 200 minutes to hours by dividing by 60.\n",
    "minutes = 200\n",
    "hours = minutes / 60\n",
    "hours"
   ]
  },
  {
   "cell_type": "markdown",
   "id": "fdb9fc6b-aa72-4e14-ba0d-5c10220a095f",
   "metadata": {},
   "source": [
    "## Author\n",
    "Jagriti"
   ]
  },
  {
   "cell_type": "code",
   "execution_count": null,
   "id": "3a1c75b7-502d-4875-b75b-fabd676d21f8",
   "metadata": {},
   "outputs": [],
   "source": []
  }
 ],
 "metadata": {
  "kernelspec": {
   "display_name": "Python",
   "language": "python",
   "name": "conda-env-python-py"
  },
  "language_info": {
   "codemirror_mode": {
    "name": "ipython",
    "version": 3
   },
   "file_extension": ".py",
   "mimetype": "text/x-python",
   "name": "python",
   "nbconvert_exporter": "python",
   "pygments_lexer": "ipython3",
   "version": "3.7.12"
  }
 },
 "nbformat": 4,
 "nbformat_minor": 5
}
